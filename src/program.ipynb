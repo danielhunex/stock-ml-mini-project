{
 "cells": [
  {
   "cell_type": "code",
   "execution_count": 1,
   "metadata": {},
   "outputs": [
    {
     "data": {
      "text/plain": [
       "['d:\\\\UW\\\\EE 596\\\\stock-ml-mini-project\\\\src',\n",
       " 'd:\\\\UW\\\\EE 596\\\\stock-ml-mini-project\\\\src\\\\..',\n",
       " 'C:\\\\Python38\\\\python38.zip',\n",
       " 'C:\\\\Python38\\\\DLLs',\n",
       " 'C:\\\\Python38\\\\lib',\n",
       " 'C:\\\\Python38',\n",
       " '',\n",
       " 'C:\\\\Users\\\\Daniel\\\\AppData\\\\Roaming\\\\Python\\\\Python38\\\\site-packages',\n",
       " 'C:\\\\Users\\\\Daniel\\\\AppData\\\\Roaming\\\\Python\\\\Python38\\\\site-packages\\\\win32',\n",
       " 'C:\\\\Users\\\\Daniel\\\\AppData\\\\Roaming\\\\Python\\\\Python38\\\\site-packages\\\\win32\\\\lib',\n",
       " 'C:\\\\Users\\\\Daniel\\\\AppData\\\\Roaming\\\\Python\\\\Python38\\\\site-packages\\\\Pythonwin',\n",
       " 'C:\\\\Python38\\\\lib\\\\site-packages',\n",
       " 'C:\\\\Python38\\\\lib\\\\site-packages\\\\win32',\n",
       " 'C:\\\\Python38\\\\lib\\\\site-packages\\\\win32\\\\lib',\n",
       " 'C:\\\\Python38\\\\lib\\\\site-packages\\\\Pythonwin']"
      ]
     },
     "execution_count": 1,
     "metadata": {},
     "output_type": "execute_result"
    }
   ],
   "source": [
    "import sys\n",
    "import os,sys\n",
    "sys.path.insert(1, os.path.join(os.getcwd()  , '..'))\n",
    "\n",
    "sys.path"
   ]
  },
  {
   "cell_type": "code",
   "execution_count": 2,
   "metadata": {},
   "outputs": [],
   "source": [
    "%%capture\n",
    "%run TradingStrategy.py\n",
    "%run ApiClient.py\n",
    "%run ExponentialMovingAverage\n",
    "\n",
    "from TradingStrategy import TradingStrategy\n",
    "from ApiClient import ApiClient\n",
    "from ExponentialMovingAverage import ExponentialMovingAverage"
   ]
  },
  {
   "cell_type": "code",
   "execution_count": 3,
   "metadata": {},
   "outputs": [],
   "source": [
    "Api_Key =''\n",
    "Secret_Key=''\n",
    "endpoint='https://paper-api.alpaca.markets'"
   ]
  },
  {
   "cell_type": "code",
   "execution_count": 4,
   "metadata": {},
   "outputs": [
    {
     "name": "stdout",
     "output_type": "stream",
     "text": [
      "reading from file\n",
      "d:\\UW\\EE 596\\stock-ml-mini-project\\src\\data\\AMZN.csv\n",
      "                              open       high        low    close   volume  \\\n",
      "time                                                                         \n",
      "2020-10-13 00:00:00-04:00  3467.09  3492.3800  3424.2170  3442.64  4939710   \n",
      "2020-12-21 00:00:00-05:00  3200.01  3226.9666  3166.0000  3205.74  3242075   \n",
      "2021-01-21 00:00:00-05:00  3293.00  3348.5500  3289.5674  3307.21  4330235   \n",
      "2021-04-09 00:00:00-04:00  3303.01  3372.0900  3288.9000  3372.09  3934619   \n",
      "2021-06-10 00:00:00-04:00  3282.01  3351.0000  3281.1500  3349.65  3101042   \n",
      "2021-09-08 00:00:00-04:00  3511.99  3545.6300  3495.6700  3525.69  2730931   \n",
      "2021-11-05 00:00:00-04:00  3478.05  3566.2500  3476.9800  3516.64  4575142   \n",
      "\n",
      "                                ema_20       ema_50  signal  positions  \n",
      "time                                                                    \n",
      "2020-10-13 00:00:00-04:00  3212.280763  3206.270964     1.0        1.0  \n",
      "2020-12-21 00:00:00-05:00  3174.209188  3173.638201     1.0        1.0  \n",
      "2021-01-21 00:00:00-05:00  3187.669974  3184.066758     1.0        1.0  \n",
      "2021-04-09 00:00:00-04:00  3171.640838  3161.079442     1.0        1.0  \n",
      "2021-06-10 00:00:00-04:00  3253.017885  3251.407705     1.0        1.0  \n",
      "2021-09-08 00:00:00-04:00  3406.770483  3406.584483     1.0        1.0  \n",
      "2021-11-05 00:00:00-04:00  3385.381039  3377.738262     1.0        1.0  \n"
     ]
    }
   ],
   "source": [
    "\n",
    "ts = ApiClient(api_key_Id=Api_Key,api_key_secret=Secret_Key)\n",
    "df= ts. get_closing_price(\"AMZN\",365)\n",
    "\n",
    "ema = ExponentialMovingAverage(df);\n",
    "\n",
    "ema.create_trading_strategy(long_period=50,short_period=20,column='close')\n",
    "\n",
    "print(df[df[\"positions\"]==1].head(10))\n"
   ]
  }
 ],
 "metadata": {
  "interpreter": {
   "hash": "a5cd50f56488077abb2a62091bed4c0728d2d7723f95be5667b7558e1bb1eb1c"
  },
  "kernelspec": {
   "display_name": "Python 3.8.1 32-bit",
   "language": "python",
   "name": "python3"
  },
  "language_info": {
   "codemirror_mode": {
    "name": "ipython",
    "version": 3
   },
   "file_extension": ".py",
   "mimetype": "text/x-python",
   "name": "python",
   "nbconvert_exporter": "python",
   "pygments_lexer": "ipython3",
   "version": "3.8.0"
  },
  "orig_nbformat": 4
 },
 "nbformat": 4,
 "nbformat_minor": 2
}

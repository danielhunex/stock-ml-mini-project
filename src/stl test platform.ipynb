!pip install alpaca_trade_api
!pip install stldecompose

from StlSlope import StlSlope
import ApiClient as ac
client = ac.ApiClient('PKT5HIHQ45ISLOSN5GI8','KxFFHReyWaveCZo4Lbwbr6m9YEmaGVvK3rqK3eLr')
for ticker in ["FB", "MSFT","AMZN","AAPL","NFLX"]:
  df= client. get_closing_price(ticker,365)

  stl = StlSlope(ticker,df,column='close',cycle=20,period=5)
  stl.publish_trading_strategy()

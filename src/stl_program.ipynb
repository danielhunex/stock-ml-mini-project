{
 "cells": [
  {
   "cell_type": "code",
   "execution_count": 5,
   "metadata": {},
   "outputs": [
    {
     "name": "stdout",
     "output_type": "stream",
     "text": [
      "Requirement already satisfied: stldecompose==0.0.5 in c:\\users\\lukas\\anaconda3\\envs\\workspace\\lib\\site-packages (0.0.5)\n",
      "Requirement already satisfied: numpy in c:\\users\\lukas\\anaconda3\\envs\\workspace\\lib\\site-packages (from stldecompose==0.0.5) (1.20.3)\n",
      "Requirement already satisfied: statsmodels in c:\\users\\lukas\\anaconda3\\envs\\workspace\\lib\\site-packages (from stldecompose==0.0.5) (0.13.2)\n",
      "Requirement already satisfied: matplotlib in c:\\users\\lukas\\anaconda3\\envs\\workspace\\lib\\site-packages (from stldecompose==0.0.5) (3.4.3)\n",
      "Requirement already satisfied: pandas in c:\\users\\lukas\\anaconda3\\envs\\workspace\\lib\\site-packages (from stldecompose==0.0.5) (1.3.3)\n",
      "Requirement already satisfied: scipy in c:\\users\\lukas\\anaconda3\\envs\\workspace\\lib\\site-packages (from stldecompose==0.0.5) (1.8.0)\n",
      "Requirement already satisfied: kiwisolver>=1.0.1 in c:\\users\\lukas\\anaconda3\\envs\\workspace\\lib\\site-packages (from matplotlib->stldecompose==0.0.5) (1.3.2)\n",
      "Requirement already satisfied: cycler>=0.10 in c:\\users\\lukas\\anaconda3\\envs\\workspace\\lib\\site-packages (from matplotlib->stldecompose==0.0.5) (0.10.0)\n",
      "Requirement already satisfied: pillow>=6.2.0 in c:\\users\\lukas\\anaconda3\\envs\\workspace\\lib\\site-packages (from matplotlib->stldecompose==0.0.5) (8.1.0)\n",
      "Requirement already satisfied: python-dateutil>=2.7 in c:\\users\\lukas\\anaconda3\\envs\\workspace\\lib\\site-packages (from matplotlib->stldecompose==0.0.5) (2.8.2)\n",
      "Requirement already satisfied: pyparsing>=2.2.1 in c:\\users\\lukas\\anaconda3\\envs\\workspace\\lib\\site-packages (from matplotlib->stldecompose==0.0.5) (2.4.7)\n",
      "Requirement already satisfied: six in c:\\users\\lukas\\anaconda3\\envs\\workspace\\lib\\site-packages (from cycler>=0.10->matplotlib->stldecompose==0.0.5) (1.16.0)\n",
      "Requirement already satisfied: pytz>=2017.3 in c:\\users\\lukas\\anaconda3\\envs\\workspace\\lib\\site-packages (from pandas->stldecompose==0.0.5) (2021.1)\n",
      "Requirement already satisfied: patsy>=0.5.2 in c:\\users\\lukas\\anaconda3\\envs\\workspace\\lib\\site-packages (from statsmodels->stldecompose==0.0.5) (0.5.2)\n",
      "Requirement already satisfied: packaging>=21.3 in c:\\users\\lukas\\anaconda3\\envs\\workspace\\lib\\site-packages (from statsmodels->stldecompose==0.0.5) (21.3)\n"
     ]
    }
   ],
   "source": [
    "!pip install stldecompose==0.0.5"
   ]
  },
  {
   "cell_type": "code",
   "execution_count": 7,
   "metadata": {},
   "outputs": [
    {
     "ename": "ImportError",
     "evalue": "cannot import name '_maybe_get_pandas_wrapper_freq' from 'statsmodels.tsa.filters._utils' (C:\\Users\\lukas\\Anaconda3\\envs\\workspace\\lib\\site-packages\\statsmodels\\tsa\\filters\\_utils.py)",
     "output_type": "error",
     "traceback": [
      "\u001b[1;31m---------------------------------------------------------------------------\u001b[0m",
      "\u001b[1;31mImportError\u001b[0m                               Traceback (most recent call last)",
      "\u001b[1;32m~\\AppData\\Local\\Temp/ipykernel_32644/2926842556.py\u001b[0m in \u001b[0;36m<module>\u001b[1;34m\u001b[0m\n\u001b[1;32m----> 1\u001b[1;33m \u001b[1;32mfrom\u001b[0m \u001b[0mStlSlope\u001b[0m \u001b[1;32mimport\u001b[0m \u001b[0mStlSlope\u001b[0m\u001b[1;33m\u001b[0m\u001b[1;33m\u001b[0m\u001b[0m\n\u001b[0m\u001b[0;32m      2\u001b[0m \u001b[1;32mimport\u001b[0m \u001b[0mApiClient\u001b[0m \u001b[1;32mas\u001b[0m \u001b[0mac\u001b[0m\u001b[1;33m\u001b[0m\u001b[1;33m\u001b[0m\u001b[0m\n\u001b[0;32m      3\u001b[0m \u001b[0mclient\u001b[0m \u001b[1;33m=\u001b[0m \u001b[0mac\u001b[0m\u001b[1;33m.\u001b[0m\u001b[0mApiClient\u001b[0m\u001b[1;33m(\u001b[0m\u001b[1;34m'PKT5HIHQ45ISLOSN5GI8'\u001b[0m\u001b[1;33m,\u001b[0m\u001b[1;34m'KxFFHReyWaveCZo4Lbwbr6m9YEmaGVvK3rqK3eLr'\u001b[0m\u001b[1;33m)\u001b[0m\u001b[1;33m\u001b[0m\u001b[1;33m\u001b[0m\u001b[0m\n\u001b[0;32m      4\u001b[0m \u001b[1;32mfor\u001b[0m \u001b[0mticker\u001b[0m \u001b[1;32min\u001b[0m \u001b[1;33m[\u001b[0m\u001b[1;34m\"FB\"\u001b[0m\u001b[1;33m,\u001b[0m \u001b[1;34m\"MSFT\"\u001b[0m\u001b[1;33m,\u001b[0m\u001b[1;34m\"AMZN\"\u001b[0m\u001b[1;33m,\u001b[0m\u001b[1;34m\"AAPL\"\u001b[0m\u001b[1;33m,\u001b[0m\u001b[1;34m\"NFLX\"\u001b[0m\u001b[1;33m]\u001b[0m\u001b[1;33m:\u001b[0m\u001b[1;33m\u001b[0m\u001b[1;33m\u001b[0m\u001b[0m\n\u001b[0;32m      5\u001b[0m   \u001b[0mdf\u001b[0m\u001b[1;33m=\u001b[0m \u001b[0mclient\u001b[0m\u001b[1;33m.\u001b[0m \u001b[0mget_closing_price\u001b[0m\u001b[1;33m(\u001b[0m\u001b[0mticker\u001b[0m\u001b[1;33m,\u001b[0m\u001b[1;36m365\u001b[0m\u001b[1;33m)\u001b[0m\u001b[1;33m\u001b[0m\u001b[1;33m\u001b[0m\u001b[0m\n",
      "\u001b[1;32md:\\360极速浏览器下载\\StlSlope.py\u001b[0m in \u001b[0;36m<module>\u001b[1;34m\u001b[0m\n\u001b[0;32m      8\u001b[0m \u001b[1;32mimport\u001b[0m \u001b[0mnumpy\u001b[0m \u001b[1;32mas\u001b[0m \u001b[0mnp\u001b[0m\u001b[1;33m\u001b[0m\u001b[1;33m\u001b[0m\u001b[0m\n\u001b[0;32m      9\u001b[0m \u001b[1;32mimport\u001b[0m \u001b[0mpandas\u001b[0m \u001b[1;32mas\u001b[0m \u001b[0mpd\u001b[0m\u001b[1;33m\u001b[0m\u001b[1;33m\u001b[0m\u001b[0m\n\u001b[1;32m---> 10\u001b[1;33m \u001b[1;32mfrom\u001b[0m \u001b[0mstldecompose\u001b[0m \u001b[1;32mimport\u001b[0m \u001b[0mdecompose\u001b[0m\u001b[1;33m\u001b[0m\u001b[1;33m\u001b[0m\u001b[0m\n\u001b[0m\u001b[0;32m     11\u001b[0m \u001b[1;32mfrom\u001b[0m \u001b[0mstldecompose\u001b[0m\u001b[1;33m.\u001b[0m\u001b[0mforecast_funcs\u001b[0m \u001b[1;32mimport\u001b[0m \u001b[0mmean\u001b[0m\u001b[1;33m\u001b[0m\u001b[1;33m\u001b[0m\u001b[0m\n\u001b[0;32m     12\u001b[0m \u001b[1;33m\u001b[0m\u001b[0m\n",
      "\u001b[1;32m~\\Anaconda3\\envs\\workspace\\lib\\site-packages\\stldecompose\\__init__.py\u001b[0m in \u001b[0;36m<module>\u001b[1;34m\u001b[0m\n\u001b[1;32m----> 1\u001b[1;33m \u001b[1;32mfrom\u001b[0m \u001b[1;33m.\u001b[0m\u001b[0mstl\u001b[0m \u001b[1;32mimport\u001b[0m \u001b[0mdecompose\u001b[0m\u001b[1;33m,\u001b[0m \u001b[0mforecast\u001b[0m\u001b[1;33m\u001b[0m\u001b[1;33m\u001b[0m\u001b[0m\n\u001b[0m",
      "\u001b[1;32m~\\Anaconda3\\envs\\workspace\\lib\\site-packages\\stldecompose\\stl.py\u001b[0m in \u001b[0;36m<module>\u001b[1;34m\u001b[0m\n\u001b[0;32m      3\u001b[0m \u001b[1;32mfrom\u001b[0m \u001b[0mpandas\u001b[0m\u001b[1;33m.\u001b[0m\u001b[0mcore\u001b[0m\u001b[1;33m.\u001b[0m\u001b[0mnanops\u001b[0m \u001b[1;32mimport\u001b[0m \u001b[0mnanmean\u001b[0m \u001b[1;32mas\u001b[0m \u001b[0mpd_nanmean\u001b[0m\u001b[1;33m\u001b[0m\u001b[1;33m\u001b[0m\u001b[0m\n\u001b[0;32m      4\u001b[0m \u001b[1;32mfrom\u001b[0m \u001b[0mstatsmodels\u001b[0m\u001b[1;33m.\u001b[0m\u001b[0mtsa\u001b[0m\u001b[1;33m.\u001b[0m\u001b[0mseasonal\u001b[0m \u001b[1;32mimport\u001b[0m \u001b[0mDecomposeResult\u001b[0m\u001b[1;33m\u001b[0m\u001b[1;33m\u001b[0m\u001b[0m\n\u001b[1;32m----> 5\u001b[1;33m \u001b[1;32mfrom\u001b[0m \u001b[0mstatsmodels\u001b[0m\u001b[1;33m.\u001b[0m\u001b[0mtsa\u001b[0m\u001b[1;33m.\u001b[0m\u001b[0mfilters\u001b[0m\u001b[1;33m.\u001b[0m\u001b[0m_utils\u001b[0m \u001b[1;32mimport\u001b[0m \u001b[0m_maybe_get_pandas_wrapper_freq\u001b[0m\u001b[1;33m\u001b[0m\u001b[1;33m\u001b[0m\u001b[0m\n\u001b[0m\u001b[0;32m      6\u001b[0m \u001b[1;32mimport\u001b[0m \u001b[0mstatsmodels\u001b[0m\u001b[1;33m.\u001b[0m\u001b[0mapi\u001b[0m \u001b[1;32mas\u001b[0m \u001b[0msm\u001b[0m\u001b[1;33m\u001b[0m\u001b[1;33m\u001b[0m\u001b[0m\n\u001b[0;32m      7\u001b[0m \u001b[1;33m\u001b[0m\u001b[0m\n",
      "\u001b[1;31mImportError\u001b[0m: cannot import name '_maybe_get_pandas_wrapper_freq' from 'statsmodels.tsa.filters._utils' (C:\\Users\\lukas\\Anaconda3\\envs\\workspace\\lib\\site-packages\\statsmodels\\tsa\\filters\\_utils.py)"
     ]
    }
   ],
   "source": [
    "from StlSlope import StlSlope\n",
    "import ApiClient as ac\n",
    "client = ac.ApiClient('PKT5HIHQ45ISLOSN5GI8','KxFFHReyWaveCZo4Lbwbr6m9YEmaGVvK3rqK3eLr')\n",
    "for ticker in [\"FB\", \"MSFT\",\"AMZN\",\"AAPL\",\"NFLX\"]:\n",
    "  df= client. get_closing_price(ticker,365)\n",
    "\n",
    "  stl = StlSlope(ticker,df,column='close',cycle=20,period=5)\n",
    "  stl.publish_trading_strategy()"
   ]
  }
 ],
 "metadata": {
  "interpreter": {
   "hash": "d49b454cac9b66b0a056214d61cc3f8dd6a7b71ca99c30950cfe3aedff0d559e"
  },
  "kernelspec": {
   "display_name": "Python 3.8.12 ('workspace')",
   "language": "python",
   "name": "python3"
  },
  "language_info": {
   "codemirror_mode": {
    "name": "ipython",
    "version": 3
   },
   "file_extension": ".py",
   "mimetype": "text/x-python",
   "name": "python",
   "nbconvert_exporter": "python",
   "pygments_lexer": "ipython3",
   "version": "3.8.12"
  },
  "orig_nbformat": 4
 },
 "nbformat": 4,
 "nbformat_minor": 2
}
